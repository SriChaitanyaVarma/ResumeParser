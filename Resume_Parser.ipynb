{
  "cells": [
    {
      "cell_type": "markdown",
      "source": [
        "**NECESSSARY IMPORTS**"
      ],
      "metadata": {
        "id": "qhj5dGmJcA0_"
      }
    },
    {
      "cell_type": "code",
      "source": [
        "import pandas as pd\n",
        "import nltk\n",
        "from nltk.corpus import stopwords\n",
        "from nltk.tokenize import word_tokenize\n",
        "from nltk.stem import WordNetLemmatizer\n",
        "import matplotlib.pyplot as plt\n",
        "import seaborn as sns\n",
        "from tabulate import tabulate"
      ],
      "metadata": {
        "id": "SNYvZ-k-E60T"
      },
      "execution_count": 1,
      "outputs": []
    },
    {
      "cell_type": "markdown",
      "source": [
        "**Download NLTK resources**"
      ],
      "metadata": {
        "id": "Y2Hj9G8ic1WQ"
      }
    },
    {
      "cell_type": "code",
      "source": [
        "nltk.download('punkt')\n",
        "nltk.download('stopwords')\n",
        "nltk.download('wordnet')\n"
      ],
      "metadata": {
        "colab": {
          "base_uri": "https://localhost:8080/"
        },
        "id": "vDhttBhVdBxv",
        "outputId": "f8d9a77d-1fdd-404e-c165-d43c8871fa6e"
      },
      "execution_count": 2,
      "outputs": [
        {
          "output_type": "stream",
          "name": "stderr",
          "text": [
            "[nltk_data] Downloading package punkt to /root/nltk_data...\n",
            "[nltk_data]   Unzipping tokenizers/punkt.zip.\n",
            "[nltk_data] Downloading package stopwords to /root/nltk_data...\n",
            "[nltk_data]   Unzipping corpora/stopwords.zip.\n",
            "[nltk_data] Downloading package wordnet to /root/nltk_data...\n"
          ]
        },
        {
          "output_type": "execute_result",
          "data": {
            "text/plain": [
              "True"
            ]
          },
          "metadata": {},
          "execution_count": 2
        }
      ]
    },
    {
      "cell_type": "markdown",
      "source": [
        "**Preprocess text: Tokenize, remove stopwords, and lemmatize**"
      ],
      "metadata": {
        "id": "ulcYmMREdOFx"
      }
    },
    {
      "cell_type": "code",
      "source": [
        "def preprocess_text(text):\n",
        "    tokens = word_tokenize(text.lower())\n",
        "    stop_words = set(stopwords.words('english'))\n",
        "    return [WordNetLemmatizer().lemmatize(word) for word in tokens if word.isalnum() and word not in stop_words]\n"
      ],
      "metadata": {
        "id": "hPYU7jSCdFkx"
      },
      "execution_count": 3,
      "outputs": []
    },
    {
      "cell_type": "markdown",
      "source": [
        "**Extract relevant skills based on job keywords**"
      ],
      "metadata": {
        "id": "Jsvg9tVudmsb"
      }
    },
    {
      "cell_type": "code",
      "source": [
        "def extract_skills(resume_text, job_keywords):\n",
        "    return [word for word in preprocess_text(resume_text) if word in job_keywords]"
      ],
      "metadata": {
        "id": "hWP7QwPqdsIW"
      },
      "execution_count": 4,
      "outputs": []
    },
    {
      "cell_type": "markdown",
      "source": [
        "**Calculate similarity score based on keyword matches**"
      ],
      "metadata": {
        "id": "AZRYmo8nd0pC"
      }
    },
    {
      "cell_type": "code",
      "source": [
        "def calculate_similarity(found_skills, job_keywords):\n",
        "    return len(set(found_skills).intersection(set(job_keywords))) / len(job_keywords)"
      ],
      "metadata": {
        "id": "btxTRKrXeQFv"
      },
      "execution_count": 5,
      "outputs": []
    },
    {
      "cell_type": "markdown",
      "source": [
        "**Evaluate resume based on similarity scoret**"
      ],
      "metadata": {
        "id": "cpqJYsiqeMB2"
      }
    },
    {
      "cell_type": "code",
      "source": [
        "def evaluate_resume(similarity_score, threshold=0.4):\n",
        "    return \"Selected\" if similarity_score >= threshold else \"Not Selected\""
      ],
      "metadata": {
        "id": "XQhdsTbneWN4"
      },
      "execution_count": 6,
      "outputs": []
    },
    {
      "cell_type": "markdown",
      "source": [
        "**Function to read resume from a file**"
      ],
      "metadata": {
        "id": "TEAP7bXqega2"
      }
    },
    {
      "cell_type": "code",
      "source": [
        "def read_resume_from_file(file_path):\n",
        "    with open(file_path, 'r') as file:\n",
        "        return file.read()"
      ],
      "metadata": {
        "id": "Dvu2VlFbenAV"
      },
      "execution_count": 7,
      "outputs": []
    },
    {
      "cell_type": "markdown",
      "source": [
        " **Function to extract keywords from the job description**"
      ],
      "metadata": {
        "id": "WMOK5gGaevTk"
      }
    },
    {
      "cell_type": "code",
      "source": [
        "def extract_keywords_from_job_description(file_path):\n",
        "    resume_text = read_resume_from_file(file_path)\n",
        "    keywords = preprocess_text(resume_text)\n",
        "    return list(set(keywords))\n"
      ],
      "metadata": {
        "id": "pYTseda3e1Cc"
      },
      "execution_count": 8,
      "outputs": []
    },
    {
      "cell_type": "markdown",
      "source": [
        "**Sample data**"
      ],
      "metadata": {
        "id": "bBGm460nfEYY"
      }
    },
    {
      "cell_type": "code",
      "source": [
        "nltk.download('punkt_tab')\n",
        "job_keywords = extract_keywords_from_job_description('file.txt')\n",
        "resumes = {'resume_id': [1, 2, 3],\n",
        "           'resume_text': [\n",
        "               \"Experienced in Python and SQL, with a strong background in data analysis and machine learning.\",\n",
        "               \"Skilled in communication and teamwork, proficient in SQL and leadership.\",\n",
        "               \"Knowledgeable in C++, data structures, and data analysis, with some experience in Python.\"\n",
        "           ]}\n",
        "\n",
        "df = pd.DataFrame(resumes)"
      ],
      "metadata": {
        "id": "P3NqwXeVfDnb",
        "colab": {
          "base_uri": "https://localhost:8080/"
        },
        "outputId": "68c186a6-7afe-4755-b11c-75bc854100ed"
      },
      "execution_count": 12,
      "outputs": [
        {
          "output_type": "stream",
          "name": "stderr",
          "text": [
            "[nltk_data] Downloading package punkt_tab to /root/nltk_data...\n",
            "[nltk_data]   Unzipping tokenizers/punkt_tab.zip.\n"
          ]
        }
      ]
    },
    {
      "cell_type": "markdown",
      "source": [
        "**Process each resume**"
      ],
      "metadata": {
        "id": "Il_H5XQ8fUit"
      }
    },
    {
      "cell_type": "code",
      "source": [
        "df['skills_found'] = df['resume_text'].apply(lambda x: extract_skills(x, job_keywords))\n",
        "df['similarity_score'] = df['skills_found'].apply(lambda x: calculate_similarity(x, job_keywords))\n",
        "df['status'] = df['similarity_score'].apply(lambda x: evaluate_resume(x))\n"
      ],
      "metadata": {
        "id": "LgSSTrItfZB9"
      },
      "execution_count": 13,
      "outputs": []
    },
    {
      "cell_type": "markdown",
      "source": [
        "**Print resume status in a clean tabular format**"
      ],
      "metadata": {
        "id": "3Jmcjac4fiF3"
      }
    },
    {
      "cell_type": "code",
      "source": [
        "headers = [\"Resume ID\", \"Skills Found\", \"Similarity Score\", \"Status\"]\n",
        "table_data = df[['resume_id', 'skills_found', 'similarity_score', 'status']].values.tolist()\n",
        "print(tabulate(table_data, headers, tablefmt=\"fancy_grid\"))"
      ],
      "metadata": {
        "colab": {
          "base_uri": "https://localhost:8080/"
        },
        "id": "-ZMR4UjIfnjp",
        "outputId": "3722dbc4-447e-417c-85ea-00ea23c5a62a"
      },
      "execution_count": 14,
      "outputs": [
        {
          "output_type": "stream",
          "name": "stdout",
          "text": [
            "╒═════════════╤══════════════════════════════════════════╤════════════════════╤══════════════╕\n",
            "│   Resume ID │ Skills Found                             │   Similarity Score │ Status       │\n",
            "╞═════════════╪══════════════════════════════════════════╪════════════════════╪══════════════╡\n",
            "│           1 │ ['python', 'sql', 'machine', 'learning'] │           0.571429 │ Selected     │\n",
            "├─────────────┼──────────────────────────────────────────┼────────────────────┼──────────────┤\n",
            "│           2 │ ['communication', 'sql']                 │           0.285714 │ Not Selected │\n",
            "├─────────────┼──────────────────────────────────────────┼────────────────────┼──────────────┤\n",
            "│           3 │ ['python']                               │           0.142857 │ Not Selected │\n",
            "╘═════════════╧══════════════════════════════════════════╧════════════════════╧══════════════╛\n"
          ]
        }
      ]
    },
    {
      "cell_type": "markdown",
      "source": [
        "**Bar chart for resume selection status**"
      ],
      "metadata": {
        "id": "_TQecLXGfwii"
      }
    },
    {
      "cell_type": "code",
      "source": [
        "def plot_bar_chart(df):\n",
        "    plt.figure(figsize=(10, 6))\n",
        "    sns.set_style(\"whitegrid\")\n",
        "    palette = {\"Selected\": \"#5cb85c\", \"Not Selected\": \"#d9534f\"}\n",
        "\n",
        "    # Updated to assign 'status' to 'hue' to avoid warning\n",
        "    bar_chart = sns.countplot(x='status', data=df, palette=palette, hue='status')\n",
        "    bar_chart.set_title(\"Resume Selection Status\", fontsize=18, fontweight='bold')\n",
        "    bar_chart.set_xlabel(\"Selection Status\", fontsize=14, fontweight='bold')\n",
        "    bar_chart.set_ylabel(\"Number of Resumes\", fontsize=14, fontweight='bold')\n",
        "\n",
        "    # Annotating bars\n",
        "    for p in bar_chart.patches:\n",
        "        bar_chart.annotate(f'{p.get_height()}',\n",
        "                           (p.get_x() + p.get_width() / 2., p.get_height()),\n",
        "                           ha='center', va='baseline', fontsize=12, fontweight='bold')\n",
        "\n",
        "    plt.tight_layout()\n",
        "    plt.show()"
      ],
      "metadata": {
        "id": "Unr3Gs0qf1AY"
      },
      "execution_count": 15,
      "outputs": []
    },
    {
      "cell_type": "markdown",
      "source": [
        "**Display the bar chart**"
      ],
      "metadata": {
        "id": "NSuzlOIof5r6"
      }
    },
    {
      "cell_type": "code",
      "source": [
        "plot_bar_chart(df)"
      ],
      "metadata": {
        "colab": {
          "base_uri": "https://localhost:8080/",
          "height": 560
        },
        "id": "U35mIiIif82x",
        "outputId": "3453e834-9f32-4355-8732-a876f5e4599a"
      },
      "execution_count": 16,
      "outputs": [
        {
          "output_type": "display_data",
          "data": {
            "text/plain": [
              "<Figure size 1000x600 with 1 Axes>"
            ],
            "image/png": "[encoded data removed]"
          },
          "metadata": {}
        }
      ]
    },
    {
      "cell_type": "code",
      "source": [],
      "metadata": {
        "id": "UQOn0kxIzp2s"
      },
      "execution_count": null,
      "outputs": []
    }
  ],
  "metadata": {
    "colab": {
      "provenance": []
    },
    "kernelspec": {
      "display_name": "Python 3",
      "name": "python3"
    },
    "language_info": {
      "name": "python"
    }
  },
  "nbformat": 4,
  "nbformat_minor": 0
}